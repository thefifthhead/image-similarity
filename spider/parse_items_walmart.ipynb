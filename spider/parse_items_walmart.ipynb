{
 "cells": [
  {
   "cell_type": "code",
   "execution_count": 2,
   "metadata": {
    "collapsed": false
   },
   "outputs": [],
   "source": [
    "from lxml import html\n",
    "from urllib import urlretrieve\n",
    "import requests\n",
    "import os\n",
    "import time\n",
    "import json"
   ]
  },
  {
   "cell_type": "code",
   "execution_count": 3,
   "metadata": {
    "collapsed": false
   },
   "outputs": [],
   "source": [
    "lookup = json.load(open(\"index.json\"))"
   ]
  },
  {
   "cell_type": "code",
   "execution_count": 4,
   "metadata": {
    "collapsed": true
   },
   "outputs": [],
   "source": [
    "def download_image(url, name, out_folder=\"./img/\"):\n",
    "    \"\"\"Downloads all the images at 'url' to /img/\"\"\"\n",
    "    outpath = os.path.join(out_folder, name)\n",
    "    urlretrieve(url, outpath)\n"
   ]
  },
  {
   "cell_type": "code",
   "execution_count": 5,
   "metadata": {
    "collapsed": false
   },
   "outputs": [],
   "source": [
    "def download_product(urls):\n",
    "    \"\"\"Downloads all the images at 'url' to /img/\"\"\"\n",
    "    for url in urls:\n",
    "        item = {}\n",
    "        url = url.rstrip()\n",
    "        page = requests.get(url)\n",
    "        tree = html.fromstring(page.content)\n",
    "        title = tree.xpath('//title/text()')[0].replace(\"- Walmart.com\", \"\").rstrip()\n",
    "        image = tree.xpath(\"//meta[@property='og:image']/@content\")[0].rstrip()\n",
    "        img_name = url.replace(\"/\", \"$$##\")\n",
    "        item['title'] = title\n",
    "        item['url'] = url\n",
    "        item['image'] = image\n",
    "        print image, title, url\n",
    "        lookup[img_name] = item\n",
    "        #download_image(image, img_name)\n",
    "    json.dump(lookup, open(\"text.txt\",'w'))\n",
    "\n"
   ]
  },
  {
   "cell_type": "code",
   "execution_count": 96,
   "metadata": {
    "collapsed": false
   },
   "outputs": [],
   "source": [
    "urls = tuple(open('data_men2.csv', 'r'))\n",
    "#to load female shoes.\n",
    "#urls1 = tuple(open('data1.csv', 'r'))\n",
    "#urls2 = tuple(open('data2.csv', 'r'))\n",
    "#urls3 = tuple(open('data3.csv', 'r'))"
   ]
  },
  {
   "cell_type": "code",
   "execution_count": 97,
   "metadata": {
    "collapsed": false
   },
   "outputs": [],
   "source": [
    "#urls"
   ]
  },
  {
   "cell_type": "code",
   "execution_count": 98,
   "metadata": {
    "collapsed": true
   },
   "outputs": [],
   "source": [
    "#urls = ['http://www.walmart.com/ip/totes-ISOTONER-XL-Mens-Rubber-Geometric-Rain-Boots-Black/48231658']"
   ]
  },
  {
   "cell_type": "code",
   "execution_count": 7,
   "metadata": {
    "collapsed": false,
    "scrolled": true
   },
   "outputs": [],
   "source": [
    "#download_product(urls)"
   ]
  },
  {
   "cell_type": "code",
   "execution_count": 8,
   "metadata": {
    "collapsed": false
   },
   "outputs": [],
   "source": [
    "#lookup"
   ]
  },
  {
   "cell_type": "code",
   "execution_count": null,
   "metadata": {
    "collapsed": true
   },
   "outputs": [],
   "source": []
  }
 ],
 "metadata": {
  "kernelspec": {
   "display_name": "Python 2",
   "language": "python",
   "name": "python2"
  },
  "language_info": {
   "codemirror_mode": {
    "name": "ipython",
    "version": 2
   },
   "file_extension": ".py",
   "mimetype": "text/x-python",
   "name": "python",
   "nbconvert_exporter": "python",
   "pygments_lexer": "ipython2",
   "version": "2.7.11"
  }
 },
 "nbformat": 4,
 "nbformat_minor": 0
}
